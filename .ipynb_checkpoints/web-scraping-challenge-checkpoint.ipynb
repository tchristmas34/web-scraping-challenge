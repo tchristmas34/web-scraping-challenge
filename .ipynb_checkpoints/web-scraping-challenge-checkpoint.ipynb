{
 "cells": [
  {
   "cell_type": "code",
   "execution_count": 5,
   "metadata": {},
   "outputs": [],
   "source": [
    "# Declare Dependencies\n",
    "from bs4 import BeautifulSoup as bs\n",
    "from splinter import Browser\n",
    "import pandas as pd\n",
    "import os\n",
    "import time\n",
    "import requests\n",
    "import warnings\n",
    "warnings.filterwarnings('ignore')"
   ]
  },
  {
   "cell_type": "code",
   "execution_count": 6,
   "metadata": {},
   "outputs": [
    {
     "name": "stderr",
     "output_type": "stream",
     "text": [
      "'which' is not recognized as an internal or external command,\n",
      "operable program or batch file.\n"
     ]
    }
   ],
   "source": [
    "# locate Chromedriver Pathway\n",
    "!which chromedriver"
   ]
  },
  {
   "cell_type": "code",
   "execution_count": 7,
   "metadata": {},
   "outputs": [],
   "source": [
    "# Establish ChromeDriver Browswer\n",
    "executable_path = {'executable_path': '../web-scraping-challenge/chromedriver'}\n",
    "browser = Browser('chrome', **executable_path, headless=False)"
   ]
  },
  {
   "cell_type": "code",
   "execution_count": 9,
   "metadata": {},
   "outputs": [
    {
     "name": "stdout",
     "output_type": "stream",
     "text": [
      "NASA's Mars Rover Drivers Need Your Help\n",
      "Using an online tool to label Martian terrain types, you can train an artificial intelligence algorithm that could improve the way engineers guide the Curiosity rover.\n"
     ]
    }
   ],
   "source": [
    "url_nasa = \"https://mars.nasa.gov/news/\"\n",
    "browser.visit(url_nasa)\n",
    "html = browser.html\n",
    "\n",
    "# Parse HTML\n",
    "soup = bs(html, \"html.parser\")\n",
    "\n",
    "# Extract Article\n",
    "article_nasa = soup.find(\"div\", class_='list_text')\n",
    "title_nasa = article_nasa.find(\"div\", class_=\"content_title\").text\n",
    "teaser_nasa = article_nasa.find(\"div\", class_ =\"article_teaser_body\").text\n",
    "\n",
    "# Print\n",
    "print(title_nasa)\n",
    "print(teaser_nasa)"
   ]
  },
  {
   "cell_type": "code",
   "execution_count": 13,
   "metadata": {},
   "outputs": [
    {
     "name": "stdout",
     "output_type": "stream",
     "text": [
      "https://www.jpl.nasa.gov/spaceimages/images/largesize/PIA19334_hires.jpg\n"
     ]
    }
   ],
   "source": [
    "\n",
    "# Create Link to JPL\n",
    "url_JPL = \"https://www.jpl.nasa.gov/spaceimages/?search=&category=Mars\"\n",
    "browser.visit(url_JPL)\n",
    "\n",
    "# Click On 'Full Image'\n",
    "browser.click_link_by_partial_text('FULL IMAGE')\n",
    "time.sleep(5)\n",
    "\n",
    "# Click On 'More Info'\n",
    "browser.click_link_by_partial_text('more info')\n",
    "\n",
    "# Parse HTML\n",
    "html = browser.html\n",
    "image_JPL = bs(html, 'html.parser')\n",
    "\n",
    "# Scrape the URL\n",
    "url_JPL_image = image_JPL.find('figure', class_='lede').a['href']\n",
    "url_JPL_full_image = f'https://www.jpl.nasa.gov{url_JPL_image}'\n",
    "\n",
    "# Print\n",
    "print(url_JPL_full_image)"
   ]
  },
  {
   "cell_type": "code",
   "execution_count": null,
   "metadata": {},
   "outputs": [],
   "source": [
    "# Create a link to twitter\n",
    "url_twitter = \"https://twitter.com/marswxreport?lang=en\"\n",
    "request_twitter = requests.get(url_twitter)\n",
    "\n",
    "# Parse HTML with Beautiful Soup\n",
    "soup_twitter = bs(request_twitter.text, 'html.parser')\n",
    "\n",
    "# Iterate over Tweets to Obtain All Text\n",
    "mars_weather_tweets = [p.text for p in soup_twitter.findAll('p', class_='tweet-text')]\n",
    "\n",
    "# Pull Latest Tweet\n",
    "mars_weather = mars_weather_tweets[0]\n",
    "mars_weather"
   ]
  },
  {
   "cell_type": "markdown",
   "metadata": {},
   "source": [
    "'InSight sol 520 (2020-05-13) low -92.9ºC (-135.1ºF) high -1.4ºC (29.4ºF)\\nwinds from the SW at 5.4 m/s (12.0 mph) gusting to 19.5 m/s (43.7 mph)\\npressure at 7.00 hPapic.twitter.com/kjzNEgdtJr'"
   ]
  },
  {
   "cell_type": "code",
   "execution_count": 11,
   "metadata": {},
   "outputs": [],
   "source": [
    "# Create Link to Space Facts\n",
    "url_facts = 'https://space-facts.com/mars/'\n",
    "\n",
    "# Find All Tables and Pull Out Mars Information\n",
    "fact_table = pd.read_html(url_facts)\n",
    "mars_facts_df = fact_table[0]\n",
    "mars_facts_df.rename(columns={0:\"Descriptions\", 1:\"Mars\"}, inplace=True)\n",
    "mars_facts_df = mars_facts_df.set_index(\"Descriptions\")\n",
    "\n",
    "# Create HTML Table String\n",
    "html_table = mars_facts_df.to_html(classes=\"table table-striped\")\n"
   ]
  },
  {
   "cell_type": "code",
   "execution_count": 12,
   "metadata": {},
   "outputs": [
    {
     "name": "stdout",
     "output_type": "stream",
     "text": [
      "[{'title': 'Cerberus Hemisphere ', 'img_url': 'https://astropedia.astrogeology.usgs.gov/download/Mars/Viking/cerberus_enhanced.tif/full.jpg'}, {'title': 'Schiaparelli Hemisphere ', 'img_url': 'https://astropedia.astrogeology.usgs.gov/download/Mars/Viking/schiaparelli_enhanced.tif/full.jpg'}, {'title': 'Syrtis Major Hemisphere ', 'img_url': 'https://astropedia.astrogeology.usgs.gov/download/Mars/Viking/syrtis_major_enhanced.tif/full.jpg'}, {'title': 'Valles Marineris Hemisphere ', 'img_url': 'https://astropedia.astrogeology.usgs.gov/download/Mars/Viking/valles_marineris_enhanced.tif/full.jpg'}]\n"
     ]
    }
   ],
   "source": [
    "# Create Link to USGS\n",
    "url_USGS = \"https://astrogeology.usgs.gov/search/results?q=hemisphere+enhanced&k1=target&v1=Mars\"\n",
    "browser.visit(url_USGS)\n",
    "html = browser.html\n",
    "\n",
    "# Parse HTML\n",
    "soup_USGS = bs(html, 'html.parser')\n",
    "\n",
    "# Create List For Images\n",
    "mars_hemisphere = []\n",
    "\n",
    "# Retrieve All Picture Code\n",
    "results = soup_USGS.find(\"div\", class_ = \"result-list\" )\n",
    "hemispheres = results.find_all(\"div\", class_=\"item\")\n",
    "\n",
    "# Iterate Through Each Hemisphere\n",
    "for hemisphere in hemispheres:\n",
    "    title = hemisphere.find(\"h3\").text\n",
    "    title = title.replace(\"Enhanced\", \"\")\n",
    "    end_link = hemisphere.find(\"a\")[\"href\"]\n",
    "    image_link = \"https://astrogeology.usgs.gov/\" + end_link    \n",
    "    browser.visit(image_link)\n",
    "    html = browser.html\n",
    "    soup = bs(html, \"html.parser\")\n",
    "    downloads = soup.find(\"div\", class_=\"downloads\")\n",
    "    image_url = downloads.find(\"a\")[\"href\"]\n",
    "    mars_hemisphere.append({\"title\": title, \"img_url\": image_url})\n",
    "\n",
    "# Print\n",
    "print(mars_hemisphere)"
   ]
  },
  {
   "cell_type": "code",
   "execution_count": null,
   "metadata": {},
   "outputs": [],
   "source": []
  }
 ],
 "metadata": {
  "kernelspec": {
   "display_name": "Python 3",
   "language": "python",
   "name": "python3"
  },
  "language_info": {
   "codemirror_mode": {
    "name": "ipython",
    "version": 3
   },
   "file_extension": ".py",
   "mimetype": "text/x-python",
   "name": "python",
   "nbconvert_exporter": "python",
   "pygments_lexer": "ipython3",
   "version": "3.7.4"
  }
 },
 "nbformat": 4,
 "nbformat_minor": 2
}
